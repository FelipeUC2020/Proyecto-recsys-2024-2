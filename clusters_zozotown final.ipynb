{
 "cells": [
  {
   "cell_type": "code",
   "execution_count": 25,
   "metadata": {},
   "outputs": [],
   "source": [
    "from sklearn.cluster import KMeans\n",
    "import os\n",
    "import pandas as pd\n",
    "from obp.dataset import OpenBanditDataset\n",
    "from obp.ope import OffPolicyEvaluation, InverseProbabilityWeighting as IPW\n",
    "from obp.policy import BernoulliTS\n",
    "from obp.ope import (\n",
    "    OffPolicyEvaluation, \n",
    "    RegressionModel,\n",
    "    DirectMethod,\n",
    "    InverseProbabilityWeighting,\n",
    "    DoublyRobust\n",
    ")\n",
    "from sklearn.linear_model import LogisticRegression\n",
    "import seaborn as sns\n",
    "import matplotlib as plt"
   ]
  },
  {
   "cell_type": "code",
   "execution_count": 30,
   "metadata": {},
   "outputs": [],
   "source": [
    "# define BernoulliTS as an evaluation policy\n",
    "evaluation_policy = BernoulliTS(\n",
    "    n_actions=dataset_cluster_1.n_actions, \n",
    "    len_list=dataset_cluster_1.len_list, \n",
    "    campaign=\"men\",\n",
    "    random_state=12345,\n",
    "    policy_name = \"random\"\n",
    ")\n",
    "\n",
    "# compute the action choice probabilities of the evaluation policy via Monte Carlo simulation\n",
    "action_dist = evaluation_policy.compute_batch_action_dist(\n",
    "    n_sim=100000, n_rounds=bandit_feedback[\"n_rounds\"],\n",
    ")"
   ]
  },
  {
   "cell_type": "code",
   "execution_count": 31,
   "metadata": {},
   "outputs": [],
   "source": [
    "# `action_dist` is an array of shape (n_rounds, n_actions, len_list) \n",
    "# representing the distribution over actions by the evaluation policy\n",
    "action_dist"
   ]
  },
  {
   "cell_type": "code",
   "execution_count": 33,
   "metadata": {},
   "outputs": [],
   "source": [
    "estimated_rewards_by_reg_model = regression_model.fit_predict(\n",
    "    context=bandit_feedback[\"context\"],\n",
    "    action=bandit_feedback[\"action\"],\n",
    "    reward=bandit_feedback[\"reward\"],\n",
    "    position=bandit_feedback[\"position\"],\n",
    "    pscore=bandit_feedback[\"pscore\"],\n",
    "    n_folds=3, # use 3-fold cross-fitting\n",
    "    random_state=12345,\n",
    ")"
   ]
  },
  {
   "cell_type": "code",
   "execution_count": 34,
   "metadata": {},
   "outputs": [],
   "source": [
    "# estimate the policy value of BernoulliTS based on its action choice probabilities\n",
    "# it is possible to set multiple OPE estimators to the `ope_estimators` argument\n",
    "ope = OffPolicyEvaluation(\n",
    "    bandit_feedback=bandit_feedback,\n",
    "    ope_estimators=[InverseProbabilityWeighting(), DirectMethod(), DoublyRobust()]\n",
    ")\n",
    "\n",
    "# `summarize_off_policy_estimates` returns pandas dataframes including the OPE results\n",
    "estimated_policy_value, estimated_interval = ope.summarize_off_policy_estimates(\n",
    "    action_dist=action_dist, \n",
    "    estimated_rewards_by_reg_model=estimated_rewards_by_reg_model,\n",
    "    n_bootstrap_samples=10000, # number of resampling performed in bootstrap sampling.\n",
    "    random_state=12345,\n",
    ")"
   ]
  },
  {
   "cell_type": "code",
   "execution_count": 36,
   "metadata": {},
   "outputs": [],
   "source": [
    "# visualize the estimated policy values of BernoulliTS and their 95% confidence intervals (estimated by bootstrap)\n",
    "ope.visualize_off_policy_estimates(\n",
    "    action_dist=action_dist,\n",
    "    estimated_rewards_by_reg_model=estimated_rewards_by_reg_model,\n",
    "    n_bootstrap_samples=10000, # number of resampling performed in bootstrap sampling\n",
    "    random_state=12345,\n",
    ")"
   ]
  },
  {
   "cell_type": "code",
   "execution_count": 37,
   "metadata": {},
   "outputs": [],
   "source": [
    "# by activating the `is_relative` option\n",
    "# we can visualize the estimated policy value of the evaluation policy\n",
    "# relative to the ground-truth policy value of the behavior policy\n",
    "ope.visualize_off_policy_estimates(\n",
    "    action_dist=action_dist,\n",
    "    estimated_rewards_by_reg_model=estimated_rewards_by_reg_model,\n",
    "    n_bootstrap_samples=10000, # number of resampling performed in bootstrap sampling\n",
    "    is_relative=True,\n",
    "    random_state=12345,\n",
    ")"
   ]
  },
  {
   "cell_type": "markdown",
   "metadata": {},
   "source": [
    "# Loop para clusters automáticos "
   ]
  },
  {
   "cell_type": "markdown",
   "metadata": {},
   "source": [
    "Para generar clusters necesitamos sobreescribir el dataset de zozotwon con la subdivisión que corresponda... "
   ]
  },
  {
   "cell_type": "code",
   "execution_count": 12,
   "metadata": {},
   "outputs": [],
   "source": [
    "def get_bandit_dataset(behavior_policy, campaign, data_path, dataset_name):\n",
    "    dataset_cluster = OpenBanditDataset(behavior_policy=behavior_policy, campaign=campaign, data_path=data_path, dataset_name=dataset_name)\n",
    "    return dataset_cluster"
   ]
  },
  {
   "cell_type": "code",
   "execution_count": 13,
   "metadata": {},
   "outputs": [],
   "source": [
    "# behavior_policy = random, campaing = men, datapath = open_bandit_dataset\n",
    "def get_bandit_feedback(behavior_policy, campaign, data_path, dataset_name):\n",
    "    dataset_cluster = get_bandit_dataset(behavior_policy, campaign, data_path, dataset_name)\n",
    "    bandit_feedback = dataset_cluster.obtain_batch_bandit_feedback()\n",
    "    return bandit_feedback"
   ]
  },
  {
   "cell_type": "code",
   "execution_count": 14,
   "metadata": {},
   "outputs": [],
   "source": [
    "# estimate the expected rewards by using an ML model (Logistic Regression here)\n",
    "# the estimated rewards are used by model-dependent estimators such as DM and DR\n",
    "def make_regression_model(dataset):\n",
    "    regression_model = RegressionModel(\n",
    "        n_actions=dataset.n_actions,\n",
    "        len_list=dataset.len_list,\n",
    "        action_context=dataset.action_context,\n",
    "        base_model=LogisticRegression(max_iter=1000, random_state=12345),\n",
    "    )\n",
    "    return regression_model"
   ]
  },
  {
   "cell_type": "code",
   "execution_count": null,
   "metadata": {},
   "outputs": [],
   "source": []
  },
  {
   "cell_type": "markdown",
   "metadata": {},
   "source": [
    "## Data Loading and Preprocessing"
   ]
  },
  {
   "cell_type": "code",
   "execution_count": 31,
   "metadata": {},
   "outputs": [
    {
     "name": "stdout",
     "output_type": "stream",
     "text": [
      "0\n",
      "1\n"
     ]
    }
   ],
   "source": [
    "n_clusters = 2\n",
    "\n",
    "# Importar dataset original desde una copia: 'men_copy.csv'\n",
    "path = os.path.join(\"open_bandit_dataset\", \"random\", \"men\", \"men_copy.csv\")\n",
    "dataset = pd.read_csv(path,  index_col=0) # por ahora solo se utilizan datos 'men', 'random'\n",
    "\n",
    "full_dataset = dataset.copy()\n",
    "\n",
    "# Clusterizar el dataser original \n",
    "dataset.drop(columns=[\"item_id\", \"position\", \"click\", \"propensity_score\", \"timestamp\", \"user_feature_0\", \"user_feature_1\", \"user_feature_2\", \"user_feature_3\"], inplace= True)\n",
    "kmeans = KMeans(init=\"k-means++\", n_clusters=n_clusters, random_state=12345)\n",
    "predict = kmeans.fit_predict(dataset)\n",
    "\n",
    "full_dataset['clusters'] = predict\n",
    "\n",
    "cluster_datasets = []\n",
    "cluster_results = []\n",
    "\n",
    "# Aplicar una mascara al dataset para filtrar por cluster\n",
    "for i in range(n_clusters): \n",
    "    print(i)\n",
    "    cluster_datasets.append(full_dataset.loc[full_dataset['clusters'] == i])\n",
    "\n",
    "# Iteracion principal para sobreescribir csv de OBP\n",
    "for i in range(n_clusters):\n",
    "    path = os.path.join(\"open_bandit_dataset\", \"random\", \"men\", \"men.csv\")\n",
    "    dataset = cluster_datasets[i]\n",
    "    dataset.to_csv(path, index=False)\n",
    "\n",
    "    # compute the action choice probabilities of the evaluation policy via Monte Carlo simulation\n",
    "    # bandit_feedback = get_bandit_feedback(\n",
    "    #     behavior_policy = 'random', \n",
    "    #     campaign = 'men', \n",
    "    #     datapath = 'open_bandit_dataset'\n",
    "    # )\n",
    "\n",
    "    dataset = OpenBanditDataset(behavior_policy=\"random\", campaign=\"men\", data_path=\"open_bandit_dataset\", dataset_name=\"men.csv\")\n",
    "    bandit_feedback = dataset.obtain_batch_bandit_feedback()\n",
    "\n",
    "    ######### Aqui aplicar simulacion y estimacion sobre clusters ###########\n",
    "    evaluation_policy = BernoulliTS(\n",
    "        n_actions=dataset.n_actions, \n",
    "        len_list=dataset.len_list, \n",
    "        campaign=\"men\",\n",
    "        random_state=12345,\n",
    "        policy_name = \"random\"\n",
    "    )\n",
    "\n",
    "    regression_model = RegressionModel(\n",
    "        n_actions=dataset.n_actions,\n",
    "        len_list=dataset.len_list,\n",
    "        action_context=dataset.action_context,\n",
    "        base_model=LogisticRegression(max_iter=1000, random_state=12345),\n",
    "    )\n",
    "\n",
    "    estimated_rewards_by_reg_model = regression_model.fit_predict(\n",
    "        context=bandit_feedback[\"context\"],\n",
    "        action=bandit_feedback[\"action\"],\n",
    "        reward=bandit_feedback[\"reward\"],\n",
    "        position=bandit_feedback[\"position\"],\n",
    "        pscore=bandit_feedback[\"pscore\"],\n",
    "        n_folds=3, # use 3-fold cross-fitting\n",
    "        random_state=12345,\n",
    "    )\n",
    "    \n",
    "    action_dist = evaluation_policy.compute_batch_action_dist(\n",
    "        n_sim=100000, n_rounds=bandit_feedback[\"n_rounds\"],\n",
    "    )\n",
    "\n",
    "    # estimate the policy value of BernoulliTS based on its action choice probabilities\n",
    "# it is possible to set multiple OPE estimators to the `ope_estimators` argument\n",
    "    ope = OffPolicyEvaluation(\n",
    "        bandit_feedback=bandit_feedback,\n",
    "        ope_estimators=[InverseProbabilityWeighting(), DirectMethod(), DoublyRobust()]\n",
    "    )\n",
    "    \n",
    "\n",
    "    # `summarize_off_policy_estimates` returns pandas dataframes including the OPE results\n",
    "    estimated_policy_value, estimated_interval = ope.summarize_off_policy_estimates(\n",
    "        action_dist=action_dist, \n",
    "        estimated_rewards_by_reg_model=estimated_rewards_by_reg_model,\n",
    "        n_bootstrap_samples=10000, # number of resampling performed in bootstrap sampling.\n",
    "        random_state=12345,\n",
    "    )\n",
    "\n",
    "    cluster_results.append(estimated_policy_value)\n"
   ]
  },
  {
   "cell_type": "code",
   "execution_count": 17,
   "metadata": {},
   "outputs": [
    {
     "data": {
      "text/html": [
       "<div>\n",
       "<style scoped>\n",
       "    .dataframe tbody tr th:only-of-type {\n",
       "        vertical-align: middle;\n",
       "    }\n",
       "\n",
       "    .dataframe tbody tr th {\n",
       "        vertical-align: top;\n",
       "    }\n",
       "\n",
       "    .dataframe thead th {\n",
       "        text-align: right;\n",
       "    }\n",
       "</style>\n",
       "<table border=\"1\" class=\"dataframe\">\n",
       "  <thead>\n",
       "    <tr style=\"text-align: right;\">\n",
       "      <th></th>\n",
       "      <th>estimated_policy_value</th>\n",
       "      <th>relative_estimated_policy_value</th>\n",
       "    </tr>\n",
       "  </thead>\n",
       "  <tbody>\n",
       "    <tr>\n",
       "      <th>ipw</th>\n",
       "      <td>0.005033</td>\n",
       "      <td>0.998931</td>\n",
       "    </tr>\n",
       "    <tr>\n",
       "      <th>dm</th>\n",
       "      <td>0.005050</td>\n",
       "      <td>1.002412</td>\n",
       "    </tr>\n",
       "    <tr>\n",
       "      <th>dr</th>\n",
       "      <td>0.005030</td>\n",
       "      <td>0.998277</td>\n",
       "    </tr>\n",
       "  </tbody>\n",
       "</table>\n",
       "</div>"
      ],
      "text/plain": [
       "     estimated_policy_value  relative_estimated_policy_value\n",
       "ipw                0.005033                         0.998931\n",
       "dm                 0.005050                         1.002412\n",
       "dr                 0.005030                         0.998277"
      ]
     },
     "execution_count": 17,
     "metadata": {},
     "output_type": "execute_result"
    }
   ],
   "source": [
    "cluster_results[0]"
   ]
  },
  {
   "cell_type": "code",
   "execution_count": 18,
   "metadata": {},
   "outputs": [
    {
     "data": {
      "text/html": [
       "<div>\n",
       "<style scoped>\n",
       "    .dataframe tbody tr th:only-of-type {\n",
       "        vertical-align: middle;\n",
       "    }\n",
       "\n",
       "    .dataframe tbody tr th {\n",
       "        vertical-align: top;\n",
       "    }\n",
       "\n",
       "    .dataframe thead th {\n",
       "        text-align: right;\n",
       "    }\n",
       "</style>\n",
       "<table border=\"1\" class=\"dataframe\">\n",
       "  <thead>\n",
       "    <tr style=\"text-align: right;\">\n",
       "      <th></th>\n",
       "      <th>estimated_policy_value</th>\n",
       "      <th>relative_estimated_policy_value</th>\n",
       "    </tr>\n",
       "  </thead>\n",
       "  <tbody>\n",
       "    <tr>\n",
       "      <th>ipw</th>\n",
       "      <td>0.015895</td>\n",
       "      <td>1.000256</td>\n",
       "    </tr>\n",
       "    <tr>\n",
       "      <th>dm</th>\n",
       "      <td>0.016157</td>\n",
       "      <td>1.016764</td>\n",
       "    </tr>\n",
       "    <tr>\n",
       "      <th>dr</th>\n",
       "      <td>0.015940</td>\n",
       "      <td>1.003093</td>\n",
       "    </tr>\n",
       "  </tbody>\n",
       "</table>\n",
       "</div>"
      ],
      "text/plain": [
       "     estimated_policy_value  relative_estimated_policy_value\n",
       "ipw                0.015895                         1.000256\n",
       "dm                 0.016157                         1.016764\n",
       "dr                 0.015940                         1.003093"
      ]
     },
     "execution_count": 18,
     "metadata": {},
     "output_type": "execute_result"
    }
   ],
   "source": [
    "cluster_results[1]"
   ]
  },
  {
   "cell_type": "code",
   "execution_count": 27,
   "metadata": {},
   "outputs": [
    {
     "data": {
      "image/png": "[encoded data removed]",
      "text/plain": [
       "<Figure size 640x480 with 1 Axes>"
      ]
     },
     "metadata": {},
     "output_type": "display_data"
    }
   ],
   "source": [
    "plot = sns.barplot(cluster_results[0]['estimated_policy_value'])\n",
    "fig = plot.get_figure()\n",
    "fig.savefig(\"cluster0.png\")"
   ]
  },
  {
   "cell_type": "code",
   "execution_count": 23,
   "metadata": {},
   "outputs": [
    {
     "data": {
      "text/plain": [
       "<Axes: ylabel='estimated_policy_value'>"
      ]
     },
     "execution_count": 23,
     "metadata": {},
     "output_type": "execute_result"
    },
    {
     "data": {
      "image/png": "[encoded data removed]",
      "text/plain": [
       "<Figure size 640x480 with 1 Axes>"
      ]
     },
     "metadata": {},
     "output_type": "display_data"
    }
   ],
   "source": [
    "sns.barplot(cluster_results[1]['estimated_policy_value'])"
   ]
  },
  {
   "cell_type": "code",
   "execution_count": 28,
   "metadata": {},
   "outputs": [],
   "source": [
    "cluster_results_2 = cluster_results"
   ]
  },
  {
   "cell_type": "markdown",
   "metadata": {},
   "source": [
    "## Replicating Production Policy"
   ]
  },
  {
   "cell_type": "code",
   "execution_count": null,
   "metadata": {},
   "outputs": [],
   "source": [
    "# define BernoulliTS as an evaluation policy\n",
    "def get_bernoulliTS_from_cluster(cluster):\n",
    "    evaluation_policy = BernoulliTS(\n",
    "        n_actions=cluster.n_actions, \n",
    "        len_list=cluster.len_list, \n",
    "        campaign=\"men\",\n",
    "        random_state=12345,\n",
    "        policy_name = \"random\"\n",
    "    )\n",
    "\n",
    "    # compute the action choice probabilities of the evaluation policy via Monte Carlo simulation\n",
    "    action_dist = evaluation_policy.compute_batch_action_dist(\n",
    "        n_sim=100000, n_rounds=bandit_feedback[\"n_rounds\"],\n",
    "    )\n",
    "\n",
    "    return evaluation_policy, action_dist"
   ]
  }
 ],
 "metadata": {
  "kernelspec": {
   "display_name": "Python 3",
   "language": "python",
   "name": "python3"
  },
  "language_info": {
   "codemirror_mode": {
    "name": "ipython",
    "version": 3
   },
   "file_extension": ".py",
   "mimetype": "text/x-python",
   "name": "python",
   "nbconvert_exporter": "python",
   "pygments_lexer": "ipython3",
   "version": "3.12.2"
  }
 },
 "nbformat": 4,
 "nbformat_minor": 2
}
