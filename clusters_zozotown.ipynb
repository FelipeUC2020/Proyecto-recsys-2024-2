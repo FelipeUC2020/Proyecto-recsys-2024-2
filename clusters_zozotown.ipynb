{
 "cells": [
  {
   "cell_type": "code",
   "execution_count": 2,
   "metadata": {},
   "outputs": [],
   "source": [
    "import numpy as np\n",
    "from sklearn.cluster import KMeans\n",
    "import os\n",
    "import pandas as pd\n",
    "from sklearn.preprocessing import OneHotEncoder\n"
   ]
  },
  {
   "cell_type": "code",
   "execution_count": 3,
   "metadata": {},
   "outputs": [],
   "source": [
    "path = os.path.join(\"open_bandit_dataset\", \"random\", \"men\", \"men.csv\")\n",
    "dataset = pd.read_csv(path,  index_col=0)"
   ]
  },
  {
   "cell_type": "code",
   "execution_count": 4,
   "metadata": {},
   "outputs": [],
   "source": [
    "full_dataset = dataset.copy()"
   ]
  },
  {
   "cell_type": "code",
   "execution_count": 5,
   "metadata": {},
   "outputs": [],
   "source": [
    "dataset.drop(columns=[\"timestamp\", \"user_feature_0\", \"user_feature_1\", \"user_feature_2\", \"user_feature_3\"], inplace= True)"
   ]
  },
  {
   "cell_type": "code",
   "execution_count": 6,
   "metadata": {},
   "outputs": [
    {
     "data": {
      "text/html": [
       "<div>\n",
       "<style scoped>\n",
       "    .dataframe tbody tr th:only-of-type {\n",
       "        vertical-align: middle;\n",
       "    }\n",
       "\n",
       "    .dataframe tbody tr th {\n",
       "        vertical-align: top;\n",
       "    }\n",
       "\n",
       "    .dataframe thead th {\n",
       "        text-align: right;\n",
       "    }\n",
       "</style>\n",
       "<table border=\"1\" class=\"dataframe\">\n",
       "  <thead>\n",
       "    <tr style=\"text-align: right;\">\n",
       "      <th></th>\n",
       "      <th>item_id</th>\n",
       "      <th>position</th>\n",
       "      <th>click</th>\n",
       "      <th>propensity_score</th>\n",
       "      <th>user-item_affinity_0</th>\n",
       "      <th>user-item_affinity_1</th>\n",
       "      <th>user-item_affinity_2</th>\n",
       "      <th>user-item_affinity_3</th>\n",
       "      <th>user-item_affinity_4</th>\n",
       "      <th>user-item_affinity_5</th>\n",
       "      <th>...</th>\n",
       "      <th>user-item_affinity_24</th>\n",
       "      <th>user-item_affinity_25</th>\n",
       "      <th>user-item_affinity_26</th>\n",
       "      <th>user-item_affinity_27</th>\n",
       "      <th>user-item_affinity_28</th>\n",
       "      <th>user-item_affinity_29</th>\n",
       "      <th>user-item_affinity_30</th>\n",
       "      <th>user-item_affinity_31</th>\n",
       "      <th>user-item_affinity_32</th>\n",
       "      <th>user-item_affinity_33</th>\n",
       "    </tr>\n",
       "  </thead>\n",
       "  <tbody>\n",
       "    <tr>\n",
       "      <th>0</th>\n",
       "      <td>0</td>\n",
       "      <td>1</td>\n",
       "      <td>0</td>\n",
       "      <td>0.029412</td>\n",
       "      <td>0.0</td>\n",
       "      <td>0.0</td>\n",
       "      <td>0.0</td>\n",
       "      <td>0.0</td>\n",
       "      <td>0.0</td>\n",
       "      <td>0.0</td>\n",
       "      <td>...</td>\n",
       "      <td>0.0</td>\n",
       "      <td>0.0</td>\n",
       "      <td>0.0</td>\n",
       "      <td>0.0</td>\n",
       "      <td>0.0</td>\n",
       "      <td>0.0</td>\n",
       "      <td>0.0</td>\n",
       "      <td>0.0</td>\n",
       "      <td>0.0</td>\n",
       "      <td>0.0</td>\n",
       "    </tr>\n",
       "    <tr>\n",
       "      <th>1</th>\n",
       "      <td>25</td>\n",
       "      <td>3</td>\n",
       "      <td>0</td>\n",
       "      <td>0.029412</td>\n",
       "      <td>0.0</td>\n",
       "      <td>0.0</td>\n",
       "      <td>0.0</td>\n",
       "      <td>0.0</td>\n",
       "      <td>0.0</td>\n",
       "      <td>0.0</td>\n",
       "      <td>...</td>\n",
       "      <td>0.0</td>\n",
       "      <td>0.0</td>\n",
       "      <td>0.0</td>\n",
       "      <td>0.0</td>\n",
       "      <td>0.0</td>\n",
       "      <td>0.0</td>\n",
       "      <td>0.0</td>\n",
       "      <td>0.0</td>\n",
       "      <td>0.0</td>\n",
       "      <td>0.0</td>\n",
       "    </tr>\n",
       "    <tr>\n",
       "      <th>2</th>\n",
       "      <td>23</td>\n",
       "      <td>2</td>\n",
       "      <td>0</td>\n",
       "      <td>0.029412</td>\n",
       "      <td>0.0</td>\n",
       "      <td>0.0</td>\n",
       "      <td>0.0</td>\n",
       "      <td>0.0</td>\n",
       "      <td>0.0</td>\n",
       "      <td>0.0</td>\n",
       "      <td>...</td>\n",
       "      <td>0.0</td>\n",
       "      <td>0.0</td>\n",
       "      <td>0.0</td>\n",
       "      <td>0.0</td>\n",
       "      <td>0.0</td>\n",
       "      <td>0.0</td>\n",
       "      <td>0.0</td>\n",
       "      <td>0.0</td>\n",
       "      <td>0.0</td>\n",
       "      <td>0.0</td>\n",
       "    </tr>\n",
       "    <tr>\n",
       "      <th>3</th>\n",
       "      <td>25</td>\n",
       "      <td>1</td>\n",
       "      <td>0</td>\n",
       "      <td>0.029412</td>\n",
       "      <td>0.0</td>\n",
       "      <td>0.0</td>\n",
       "      <td>0.0</td>\n",
       "      <td>0.0</td>\n",
       "      <td>0.0</td>\n",
       "      <td>0.0</td>\n",
       "      <td>...</td>\n",
       "      <td>0.0</td>\n",
       "      <td>0.0</td>\n",
       "      <td>0.0</td>\n",
       "      <td>0.0</td>\n",
       "      <td>0.0</td>\n",
       "      <td>0.0</td>\n",
       "      <td>0.0</td>\n",
       "      <td>0.0</td>\n",
       "      <td>0.0</td>\n",
       "      <td>0.0</td>\n",
       "    </tr>\n",
       "    <tr>\n",
       "      <th>4</th>\n",
       "      <td>30</td>\n",
       "      <td>2</td>\n",
       "      <td>0</td>\n",
       "      <td>0.029412</td>\n",
       "      <td>0.0</td>\n",
       "      <td>0.0</td>\n",
       "      <td>0.0</td>\n",
       "      <td>0.0</td>\n",
       "      <td>0.0</td>\n",
       "      <td>0.0</td>\n",
       "      <td>...</td>\n",
       "      <td>0.0</td>\n",
       "      <td>0.0</td>\n",
       "      <td>0.0</td>\n",
       "      <td>0.0</td>\n",
       "      <td>0.0</td>\n",
       "      <td>0.0</td>\n",
       "      <td>0.0</td>\n",
       "      <td>0.0</td>\n",
       "      <td>0.0</td>\n",
       "      <td>0.0</td>\n",
       "    </tr>\n",
       "  </tbody>\n",
       "</table>\n",
       "<p>5 rows × 38 columns</p>\n",
       "</div>"
      ],
      "text/plain": [
       "   item_id  position  click  propensity_score  user-item_affinity_0  \\\n",
       "0        0         1      0          0.029412                   0.0   \n",
       "1       25         3      0          0.029412                   0.0   \n",
       "2       23         2      0          0.029412                   0.0   \n",
       "3       25         1      0          0.029412                   0.0   \n",
       "4       30         2      0          0.029412                   0.0   \n",
       "\n",
       "   user-item_affinity_1  user-item_affinity_2  user-item_affinity_3  \\\n",
       "0                   0.0                   0.0                   0.0   \n",
       "1                   0.0                   0.0                   0.0   \n",
       "2                   0.0                   0.0                   0.0   \n",
       "3                   0.0                   0.0                   0.0   \n",
       "4                   0.0                   0.0                   0.0   \n",
       "\n",
       "   user-item_affinity_4  user-item_affinity_5  ...  user-item_affinity_24  \\\n",
       "0                   0.0                   0.0  ...                    0.0   \n",
       "1                   0.0                   0.0  ...                    0.0   \n",
       "2                   0.0                   0.0  ...                    0.0   \n",
       "3                   0.0                   0.0  ...                    0.0   \n",
       "4                   0.0                   0.0  ...                    0.0   \n",
       "\n",
       "   user-item_affinity_25  user-item_affinity_26  user-item_affinity_27  \\\n",
       "0                    0.0                    0.0                    0.0   \n",
       "1                    0.0                    0.0                    0.0   \n",
       "2                    0.0                    0.0                    0.0   \n",
       "3                    0.0                    0.0                    0.0   \n",
       "4                    0.0                    0.0                    0.0   \n",
       "\n",
       "   user-item_affinity_28  user-item_affinity_29  user-item_affinity_30  \\\n",
       "0                    0.0                    0.0                    0.0   \n",
       "1                    0.0                    0.0                    0.0   \n",
       "2                    0.0                    0.0                    0.0   \n",
       "3                    0.0                    0.0                    0.0   \n",
       "4                    0.0                    0.0                    0.0   \n",
       "\n",
       "   user-item_affinity_31  user-item_affinity_32  user-item_affinity_33  \n",
       "0                    0.0                    0.0                    0.0  \n",
       "1                    0.0                    0.0                    0.0  \n",
       "2                    0.0                    0.0                    0.0  \n",
       "3                    0.0                    0.0                    0.0  \n",
       "4                    0.0                    0.0                    0.0  \n",
       "\n",
       "[5 rows x 38 columns]"
      ]
     },
     "execution_count": 6,
     "metadata": {},
     "output_type": "execute_result"
    }
   ],
   "source": [
    "dataset.head()"
   ]
  },
  {
   "cell_type": "code",
   "execution_count": 7,
   "metadata": {},
   "outputs": [],
   "source": [
    "kmeans = KMeans(init=\"k-means++\", n_clusters=4, random_state=0)"
   ]
  },
  {
   "cell_type": "code",
   "execution_count": 8,
   "metadata": {},
   "outputs": [],
   "source": [
    "clusters =kmeans.fit_transform(dataset)"
   ]
  },
  {
   "cell_type": "code",
   "execution_count": 9,
   "metadata": {},
   "outputs": [],
   "source": [
    "predict = kmeans.fit_predict(dataset)"
   ]
  },
  {
   "cell_type": "code",
   "execution_count": 10,
   "metadata": {},
   "outputs": [],
   "source": [
    "full_dataset['clusters'] = predict"
   ]
  },
  {
   "cell_type": "code",
   "execution_count": 11,
   "metadata": {},
   "outputs": [
    {
     "data": {
      "text/plain": [
       "0         1\n",
       "1         2\n",
       "2         2\n",
       "3         2\n",
       "4         3\n",
       "         ..\n",
       "452944    1\n",
       "452945    1\n",
       "452946    2\n",
       "452947    1\n",
       "452948    0\n",
       "Name: clusters, Length: 452949, dtype: int32"
      ]
     },
     "execution_count": 11,
     "metadata": {},
     "output_type": "execute_result"
    }
   ],
   "source": [
    "full_dataset['clusters']"
   ]
  },
  {
   "cell_type": "code",
   "execution_count": 12,
   "metadata": {},
   "outputs": [],
   "source": [
    "cluster_1 = full_dataset.loc[full_dataset['clusters'] == 1]\n",
    "cluster_2 = full_dataset.loc[full_dataset['clusters'] == 2]\n",
    "cluster_0 = full_dataset.loc[full_dataset['clusters'] == 0]\n"
   ]
  },
  {
   "cell_type": "code",
   "execution_count": 13,
   "metadata": {},
   "outputs": [
    {
     "data": {
      "text/plain": [
       "(134156, 44)"
      ]
     },
     "execution_count": 13,
     "metadata": {},
     "output_type": "execute_result"
    }
   ],
   "source": [
    "cluster_1.shape"
   ]
  },
  {
   "cell_type": "code",
   "execution_count": 14,
   "metadata": {},
   "outputs": [
    {
     "data": {
      "text/plain": [
       "(106615, 44)"
      ]
     },
     "execution_count": 14,
     "metadata": {},
     "output_type": "execute_result"
    }
   ],
   "source": [
    "cluster_2.shape"
   ]
  },
  {
   "cell_type": "code",
   "execution_count": 15,
   "metadata": {},
   "outputs": [],
   "source": [
    "path = os.path.join(\"open_bandit_dataset\", \"random\", \"men\", \"cluster_0.csv\")\n",
    "cluster_0.to_csv(path, index=False)"
   ]
  },
  {
   "cell_type": "code",
   "execution_count": 16,
   "metadata": {},
   "outputs": [],
   "source": [
    "path = os.path.join(\"open_bandit_dataset\", \"random\", \"men\", \"cluster_1.csv\")\n",
    "cluster_1.to_csv(path, index=False)"
   ]
  },
  {
   "cell_type": "code",
   "execution_count": 17,
   "metadata": {},
   "outputs": [],
   "source": [
    "path = os.path.join(\"open_bandit_dataset\", \"random\", \"men\", \"cluster_2.csv\")\n",
    "cluster_2.to_csv(path, index=False)"
   ]
  },
  {
   "cell_type": "code",
   "execution_count": 18,
   "metadata": {},
   "outputs": [],
   "source": [
    "path = os.path.join(\"open_bandit_dataset\", \"random\", \"men\", \"men.csv\")\n",
    "cluster_0.to_csv(path, index=False)"
   ]
  },
  {
   "cell_type": "code",
   "execution_count": 19,
   "metadata": {},
   "outputs": [],
   "source": [
    "from obp.dataset import OpenBanditDataset\n",
    "from obp.ope import OffPolicyEvaluation, InverseProbabilityWeighting as IPW\n",
    "from obp.policy import Random, EpsilonGreedy, BernoulliTS\n",
    "from obp.dataset import OpenBanditDataset\n",
    "from obp.simulator.simulator import BanditEnvironmentSimulator, BanditPolicySimulator\n",
    "import numpy as np\n",
    "\n",
    "from obp.policy import BaseContextFreePolicy\n",
    "from dataclasses import dataclass\n",
    "\n",
    "from obp.policy import EpsilonGreedy, LinTS, LinUCB\n",
    "from obp.ope import (\n",
    "    OffPolicyEvaluation, \n",
    "    RegressionModel,\n",
    "    DirectMethod,\n",
    "    InverseProbabilityWeighting,\n",
    "    DoublyRobust\n",
    ")\n",
    "from obp.simulator import (\n",
    "    calc_ground_truth_policy_value,\n",
    ")\n",
    "\n",
    "from sklearn.linear_model import LogisticRegression"
   ]
  },
  {
   "cell_type": "code",
   "execution_count": 20,
   "metadata": {},
   "outputs": [],
   "source": [
    "dataset_cluster_0 = OpenBanditDataset(behavior_policy=\"random\", campaign=\"men\", data_path=\"open_bandit_dataset\", dataset_name=\"men.csv\")\n",
    "bandit_feedback = dataset_cluster_0.obtain_batch_bandit_feedback()"
   ]
  },
  {
   "cell_type": "code",
   "execution_count": 21,
   "metadata": {},
   "outputs": [
    {
     "data": {
      "text/plain": [
       "20"
      ]
     },
     "execution_count": 21,
     "metadata": {},
     "output_type": "execute_result"
    }
   ],
   "source": [
    "dataset_cluster_0.n_actions"
   ]
  },
  {
   "cell_type": "code",
   "execution_count": 23,
   "metadata": {},
   "outputs": [],
   "source": [
    "# define BernoulliTS as an evaluation policy\n",
    "evaluation_policy = BernoulliTS(\n",
    "    n_actions=dataset_cluster_0.n_actions, \n",
    "    len_list=dataset_cluster_0.len_list, \n",
    "    campaign=\"men\",\n",
    "    random_state=12345,\n",
    "    policy_name = \"random\"\n",
    ")\n",
    "\n",
    "# compute the action choice probabilities of the evaluation policy via Monte Carlo simulation\n",
    "action_dist = evaluation_policy.compute_batch_action_dist(\n",
    "    n_sim=100000, n_rounds=bandit_feedback[\"n_rounds\"],\n",
    ")"
   ]
  },
  {
   "cell_type": "code",
   "execution_count": 24,
   "metadata": {},
   "outputs": [
    {
     "data": {
      "text/plain": [
       "array([[[0.05021, 0.05007, 0.04986],\n",
       "        [0.04817, 0.04992, 0.05012],\n",
       "        [0.04998, 0.05008, 0.051  ],\n",
       "        ...,\n",
       "        [0.05049, 0.04976, 0.05033],\n",
       "        [0.0515 , 0.05027, 0.04983],\n",
       "        [0.05004, 0.0504 , 0.05007]],\n",
       "\n",
       "       [[0.05021, 0.05007, 0.04986],\n",
       "        [0.04817, 0.04992, 0.05012],\n",
       "        [0.04998, 0.05008, 0.051  ],\n",
       "        ...,\n",
       "        [0.05049, 0.04976, 0.05033],\n",
       "        [0.0515 , 0.05027, 0.04983],\n",
       "        [0.05004, 0.0504 , 0.05007]],\n",
       "\n",
       "       [[0.05021, 0.05007, 0.04986],\n",
       "        [0.04817, 0.04992, 0.05012],\n",
       "        [0.04998, 0.05008, 0.051  ],\n",
       "        ...,\n",
       "        [0.05049, 0.04976, 0.05033],\n",
       "        [0.0515 , 0.05027, 0.04983],\n",
       "        [0.05004, 0.0504 , 0.05007]],\n",
       "\n",
       "       ...,\n",
       "\n",
       "       [[0.05021, 0.05007, 0.04986],\n",
       "        [0.04817, 0.04992, 0.05012],\n",
       "        [0.04998, 0.05008, 0.051  ],\n",
       "        ...,\n",
       "        [0.05049, 0.04976, 0.05033],\n",
       "        [0.0515 , 0.05027, 0.04983],\n",
       "        [0.05004, 0.0504 , 0.05007]],\n",
       "\n",
       "       [[0.05021, 0.05007, 0.04986],\n",
       "        [0.04817, 0.04992, 0.05012],\n",
       "        [0.04998, 0.05008, 0.051  ],\n",
       "        ...,\n",
       "        [0.05049, 0.04976, 0.05033],\n",
       "        [0.0515 , 0.05027, 0.04983],\n",
       "        [0.05004, 0.0504 , 0.05007]],\n",
       "\n",
       "       [[0.05021, 0.05007, 0.04986],\n",
       "        [0.04817, 0.04992, 0.05012],\n",
       "        [0.04998, 0.05008, 0.051  ],\n",
       "        ...,\n",
       "        [0.05049, 0.04976, 0.05033],\n",
       "        [0.0515 , 0.05027, 0.04983],\n",
       "        [0.05004, 0.0504 , 0.05007]]])"
      ]
     },
     "execution_count": 24,
     "metadata": {},
     "output_type": "execute_result"
    }
   ],
   "source": [
    "# `action_dist` is an array of shape (n_rounds, n_actions, len_list) \n",
    "# representing the distribution over actions by the evaluation policy\n",
    "action_dist"
   ]
  },
  {
   "cell_type": "code",
   "execution_count": 25,
   "metadata": {},
   "outputs": [],
   "source": [
    "# estimate the expected rewards by using an ML model (Logistic Regression here)\n",
    "# the estimated rewards are used by model-dependent estimators such as DM and DR\n",
    "regression_model = RegressionModel(\n",
    "    n_actions=dataset_cluster_0.n_actions,\n",
    "    len_list=dataset_cluster_0.len_list,\n",
    "    action_context=dataset_cluster_0.action_context,\n",
    "    base_model=LogisticRegression(max_iter=1000, random_state=12345),\n",
    ")"
   ]
  },
  {
   "cell_type": "code",
   "execution_count": 26,
   "metadata": {},
   "outputs": [],
   "source": [
    "estimated_rewards_by_reg_model = regression_model.fit_predict(\n",
    "    context=bandit_feedback[\"context\"],\n",
    "    action=bandit_feedback[\"action\"],\n",
    "    reward=bandit_feedback[\"reward\"],\n",
    "    position=bandit_feedback[\"position\"],\n",
    "    pscore=bandit_feedback[\"pscore\"],\n",
    "    n_folds=3, # use 3-fold cross-fitting\n",
    "    random_state=12345,\n",
    ")"
   ]
  },
  {
   "cell_type": "code",
   "execution_count": 27,
   "metadata": {},
   "outputs": [],
   "source": [
    "# estimate the policy value of BernoulliTS based on its action choice probabilities\n",
    "# it is possible to set multiple OPE estimators to the `ope_estimators` argument\n",
    "ope = OffPolicyEvaluation(\n",
    "    bandit_feedback=bandit_feedback,\n",
    "    ope_estimators=[InverseProbabilityWeighting(), DirectMethod(), DoublyRobust()]\n",
    ")\n",
    "\n",
    "# `summarize_off_policy_estimates` returns pandas dataframes including the OPE results\n",
    "estimated_policy_value, estimated_interval = ope.summarize_off_policy_estimates(\n",
    "    action_dist=action_dist, \n",
    "    estimated_rewards_by_reg_model=estimated_rewards_by_reg_model,\n",
    "    n_bootstrap_samples=10000, # number of resampling performed in bootstrap sampling.\n",
    "    random_state=12345,\n",
    ")"
   ]
  },
  {
   "cell_type": "code",
   "execution_count": 28,
   "metadata": {},
   "outputs": [
    {
     "data": {
      "text/html": [
       "<div>\n",
       "<style scoped>\n",
       "    .dataframe tbody tr th:only-of-type {\n",
       "        vertical-align: middle;\n",
       "    }\n",
       "\n",
       "    .dataframe tbody tr th {\n",
       "        vertical-align: top;\n",
       "    }\n",
       "\n",
       "    .dataframe thead th {\n",
       "        text-align: right;\n",
       "    }\n",
       "</style>\n",
       "<table border=\"1\" class=\"dataframe\">\n",
       "  <thead>\n",
       "    <tr style=\"text-align: right;\">\n",
       "      <th></th>\n",
       "      <th>estimated_policy_value</th>\n",
       "      <th>relative_estimated_policy_value</th>\n",
       "    </tr>\n",
       "  </thead>\n",
       "  <tbody>\n",
       "    <tr>\n",
       "      <th>ipw</th>\n",
       "      <td>0.009076</td>\n",
       "      <td>1.704065</td>\n",
       "    </tr>\n",
       "    <tr>\n",
       "      <th>dm</th>\n",
       "      <td>0.005936</td>\n",
       "      <td>1.114626</td>\n",
       "    </tr>\n",
       "    <tr>\n",
       "      <th>dr</th>\n",
       "      <td>0.005864</td>\n",
       "      <td>1.101110</td>\n",
       "    </tr>\n",
       "  </tbody>\n",
       "</table>\n",
       "</div>"
      ],
      "text/plain": [
       "     estimated_policy_value  relative_estimated_policy_value\n",
       "ipw                0.009076                         1.704065\n",
       "dm                 0.005936                         1.114626\n",
       "dr                 0.005864                         1.101110"
      ]
     },
     "execution_count": 28,
     "metadata": {},
     "output_type": "execute_result"
    }
   ],
   "source": [
    "# the estimated policy value of the evaluation policy (the BernoulliTS policy)\n",
    "# relative_estimated_policy_value is the policy value of the evaluation policy \n",
    "# relative to the ground-truth policy value of the behavior policy (the Random policy here)\n",
    "estimated_policy_value"
   ]
  },
  {
   "cell_type": "code",
   "execution_count": 29,
   "metadata": {},
   "outputs": [
    {
     "name": "stderr",
     "output_type": "stream",
     "text": [
      "c:\\Users\\jlira\\AppData\\Local\\Programs\\Python\\Python312\\Lib\\site-packages\\obp-0.5.5-py3.12.egg\\obp\\ope\\meta.py:640: FutureWarning: \n",
      "\n",
      "The `ci` parameter is deprecated. Use `errorbar=('ci', 95.0)` for the same effect.\n",
      "\n",
      "  sns.barplot(\n"
     ]
    },
    {
     "data": {
      "image/png": "[encoded data removed]",
      "text/plain": [
       "<Figure size 800x600 with 1 Axes>"
      ]
     },
     "metadata": {},
     "output_type": "display_data"
    }
   ],
   "source": [
    "# visualize the estimated policy values of BernoulliTS and their 95% confidence intervals (estimated by bootstrap)\n",
    "ope.visualize_off_policy_estimates(\n",
    "    action_dist=action_dist,\n",
    "    estimated_rewards_by_reg_model=estimated_rewards_by_reg_model,\n",
    "    n_bootstrap_samples=10000, # number of resampling performed in bootstrap sampling\n",
    "    random_state=12345,\n",
    ")"
   ]
  },
  {
   "cell_type": "code",
   "execution_count": 33,
   "metadata": {},
   "outputs": [
    {
     "name": "stderr",
     "output_type": "stream",
     "text": [
      "c:\\Users\\jlira\\AppData\\Local\\Programs\\Python\\Python312\\Lib\\site-packages\\obp-0.5.5-py3.12.egg\\obp\\ope\\meta.py:640: FutureWarning: \n",
      "\n",
      "The `ci` parameter is deprecated. Use `errorbar=('ci', 95.0)` for the same effect.\n",
      "\n",
      "  sns.barplot(\n"
     ]
    },
    {
     "data": {
      "image/png": "[encoded data removed]",
      "text/plain": [
       "<Figure size 800x600 with 1 Axes>"
      ]
     },
     "metadata": {},
     "output_type": "display_data"
    }
   ],
   "source": [
    "# by activating the `is_relative` option\n",
    "# we can visualize the estimated policy value of the evaluation policy\n",
    "# relative to the ground-truth policy value of the behavior policy\n",
    "ope.visualize_off_policy_estimates(\n",
    "    action_dist=action_dist,\n",
    "    estimated_rewards_by_reg_model=estimated_rewards_by_reg_model,\n",
    "    n_bootstrap_samples=10000, # number of resampling performed in bootstrap sampling\n",
    "    is_relative=True,\n",
    "    random_state=12345,\n",
    ")"
   ]
  },
  {
   "cell_type": "code",
   "execution_count": null,
   "metadata": {},
   "outputs": [],
   "source": []
  }
 ],
 "metadata": {
  "kernelspec": {
   "display_name": "Python 3",
   "language": "python",
   "name": "python3"
  },
  "language_info": {
   "codemirror_mode": {
    "name": "ipython",
    "version": 3
   },
   "file_extension": ".py",
   "mimetype": "text/x-python",
   "name": "python",
   "nbconvert_exporter": "python",
   "pygments_lexer": "ipython3",
   "version": "3.12.2"
  }
 },
 "nbformat": 4,
 "nbformat_minor": 2
}
