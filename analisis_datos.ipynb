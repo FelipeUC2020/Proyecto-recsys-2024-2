{
 "cells": [
  {
   "cell_type": "markdown",
   "metadata": {},
   "source": [
    "# Análisis de datos"
   ]
  },
  {
   "cell_type": "code",
   "execution_count": 32,
   "metadata": {},
   "outputs": [],
   "source": [
    "import pandas as pd\n",
    "import seaborn as sns\n",
    "import matplotlib.pyplot as plt"
   ]
  },
  {
   "cell_type": "code",
   "execution_count": 3,
   "metadata": {},
   "outputs": [],
   "source": [
    "data = pd.read_csv(\"randomAll.csv\")\n",
    "data = data.loc[:, ~data.columns.str.contains('^Unnamed')]"
   ]
  },
  {
   "cell_type": "code",
   "execution_count": 4,
   "metadata": {},
   "outputs": [
    {
     "data": {
      "text/html": [
       "<div>\n",
       "<style scoped>\n",
       "    .dataframe tbody tr th:only-of-type {\n",
       "        vertical-align: middle;\n",
       "    }\n",
       "\n",
       "    .dataframe tbody tr th {\n",
       "        vertical-align: top;\n",
       "    }\n",
       "\n",
       "    .dataframe thead th {\n",
       "        text-align: right;\n",
       "    }\n",
       "</style>\n",
       "<table border=\"1\" class=\"dataframe\">\n",
       "  <thead>\n",
       "    <tr style=\"text-align: right;\">\n",
       "      <th></th>\n",
       "      <th>timestamp</th>\n",
       "      <th>item_id</th>\n",
       "      <th>position</th>\n",
       "      <th>click</th>\n",
       "      <th>propensity_score</th>\n",
       "      <th>user_feature_0</th>\n",
       "      <th>user_feature_1</th>\n",
       "      <th>user_feature_2</th>\n",
       "      <th>user_feature_3</th>\n",
       "      <th>user-item_affinity_0</th>\n",
       "      <th>...</th>\n",
       "      <th>user-item_affinity_70</th>\n",
       "      <th>user-item_affinity_71</th>\n",
       "      <th>user-item_affinity_72</th>\n",
       "      <th>user-item_affinity_73</th>\n",
       "      <th>user-item_affinity_74</th>\n",
       "      <th>user-item_affinity_75</th>\n",
       "      <th>user-item_affinity_76</th>\n",
       "      <th>user-item_affinity_77</th>\n",
       "      <th>user-item_affinity_78</th>\n",
       "      <th>user-item_affinity_79</th>\n",
       "    </tr>\n",
       "  </thead>\n",
       "  <tbody>\n",
       "    <tr>\n",
       "      <th>0</th>\n",
       "      <td>2019-11-24 00:00:34.762830+00:00</td>\n",
       "      <td>14</td>\n",
       "      <td>3</td>\n",
       "      <td>0</td>\n",
       "      <td>0.0125</td>\n",
       "      <td>81ce123cbb5bd8ce818f60fb3586bba5</td>\n",
       "      <td>03a5648a76832f83c859d46bc06cb64a</td>\n",
       "      <td>c2e4f76cdbabecd33b8c762aeef386b3</td>\n",
       "      <td>f97571b9c14a786aab269f0b427d2a85</td>\n",
       "      <td>0.0</td>\n",
       "      <td>...</td>\n",
       "      <td>0.0</td>\n",
       "      <td>0.0</td>\n",
       "      <td>0.0</td>\n",
       "      <td>0.0</td>\n",
       "      <td>0.0</td>\n",
       "      <td>0.0</td>\n",
       "      <td>0.0</td>\n",
       "      <td>0.0</td>\n",
       "      <td>0.0</td>\n",
       "      <td>0.0</td>\n",
       "    </tr>\n",
       "    <tr>\n",
       "      <th>1</th>\n",
       "      <td>2019-11-24 00:00:53.965051+00:00</td>\n",
       "      <td>14</td>\n",
       "      <td>3</td>\n",
       "      <td>0</td>\n",
       "      <td>0.0125</td>\n",
       "      <td>81ce123cbb5bd8ce818f60fb3586bba5</td>\n",
       "      <td>03a5648a76832f83c859d46bc06cb64a</td>\n",
       "      <td>2723d2eb8bba04e0362098011fa3997b</td>\n",
       "      <td>c39b0c7dd5d4eb9a18e7db6ba2f258f8</td>\n",
       "      <td>0.0</td>\n",
       "      <td>...</td>\n",
       "      <td>0.0</td>\n",
       "      <td>0.0</td>\n",
       "      <td>0.0</td>\n",
       "      <td>0.0</td>\n",
       "      <td>0.0</td>\n",
       "      <td>0.0</td>\n",
       "      <td>0.0</td>\n",
       "      <td>0.0</td>\n",
       "      <td>0.0</td>\n",
       "      <td>0.0</td>\n",
       "    </tr>\n",
       "    <tr>\n",
       "      <th>2</th>\n",
       "      <td>2019-11-24 00:00:56.727734+00:00</td>\n",
       "      <td>27</td>\n",
       "      <td>3</td>\n",
       "      <td>0</td>\n",
       "      <td>0.0125</td>\n",
       "      <td>81ce123cbb5bd8ce818f60fb3586bba5</td>\n",
       "      <td>03a5648a76832f83c859d46bc06cb64a</td>\n",
       "      <td>9b2d331c329ceb74d3dcfb48d8798c78</td>\n",
       "      <td>270b3e1c052b4f2e9c90bf0ebeb84f34</td>\n",
       "      <td>0.0</td>\n",
       "      <td>...</td>\n",
       "      <td>0.0</td>\n",
       "      <td>1.0</td>\n",
       "      <td>0.0</td>\n",
       "      <td>0.0</td>\n",
       "      <td>0.0</td>\n",
       "      <td>0.0</td>\n",
       "      <td>0.0</td>\n",
       "      <td>0.0</td>\n",
       "      <td>0.0</td>\n",
       "      <td>0.0</td>\n",
       "    </tr>\n",
       "    <tr>\n",
       "      <th>3</th>\n",
       "      <td>2019-11-24 00:02:17.189232+00:00</td>\n",
       "      <td>48</td>\n",
       "      <td>2</td>\n",
       "      <td>0</td>\n",
       "      <td>0.0125</td>\n",
       "      <td>81ce123cbb5bd8ce818f60fb3586bba5</td>\n",
       "      <td>03a5648a76832f83c859d46bc06cb64a</td>\n",
       "      <td>2723d2eb8bba04e0362098011fa3997b</td>\n",
       "      <td>c39b0c7dd5d4eb9a18e7db6ba2f258f8</td>\n",
       "      <td>0.0</td>\n",
       "      <td>...</td>\n",
       "      <td>0.0</td>\n",
       "      <td>0.0</td>\n",
       "      <td>0.0</td>\n",
       "      <td>0.0</td>\n",
       "      <td>0.0</td>\n",
       "      <td>0.0</td>\n",
       "      <td>0.0</td>\n",
       "      <td>0.0</td>\n",
       "      <td>0.0</td>\n",
       "      <td>0.0</td>\n",
       "    </tr>\n",
       "    <tr>\n",
       "      <th>4</th>\n",
       "      <td>2019-11-24 00:03:02.129117+00:00</td>\n",
       "      <td>36</td>\n",
       "      <td>2</td>\n",
       "      <td>0</td>\n",
       "      <td>0.0125</td>\n",
       "      <td>81ce123cbb5bd8ce818f60fb3586bba5</td>\n",
       "      <td>03a5648a76832f83c859d46bc06cb64a</td>\n",
       "      <td>c2e4f76cdbabecd33b8c762aeef386b3</td>\n",
       "      <td>f97571b9c14a786aab269f0b427d2a85</td>\n",
       "      <td>0.0</td>\n",
       "      <td>...</td>\n",
       "      <td>0.0</td>\n",
       "      <td>0.0</td>\n",
       "      <td>0.0</td>\n",
       "      <td>0.0</td>\n",
       "      <td>0.0</td>\n",
       "      <td>0.0</td>\n",
       "      <td>0.0</td>\n",
       "      <td>0.0</td>\n",
       "      <td>0.0</td>\n",
       "      <td>0.0</td>\n",
       "    </tr>\n",
       "  </tbody>\n",
       "</table>\n",
       "<p>5 rows × 89 columns</p>\n",
       "</div>"
      ],
      "text/plain": [
       "                          timestamp  item_id  position  click  \\\n",
       "0  2019-11-24 00:00:34.762830+00:00       14         3      0   \n",
       "1  2019-11-24 00:00:53.965051+00:00       14         3      0   \n",
       "2  2019-11-24 00:00:56.727734+00:00       27         3      0   \n",
       "3  2019-11-24 00:02:17.189232+00:00       48         2      0   \n",
       "4  2019-11-24 00:03:02.129117+00:00       36         2      0   \n",
       "\n",
       "   propensity_score                    user_feature_0  \\\n",
       "0            0.0125  81ce123cbb5bd8ce818f60fb3586bba5   \n",
       "1            0.0125  81ce123cbb5bd8ce818f60fb3586bba5   \n",
       "2            0.0125  81ce123cbb5bd8ce818f60fb3586bba5   \n",
       "3            0.0125  81ce123cbb5bd8ce818f60fb3586bba5   \n",
       "4            0.0125  81ce123cbb5bd8ce818f60fb3586bba5   \n",
       "\n",
       "                     user_feature_1                    user_feature_2  \\\n",
       "0  03a5648a76832f83c859d46bc06cb64a  c2e4f76cdbabecd33b8c762aeef386b3   \n",
       "1  03a5648a76832f83c859d46bc06cb64a  2723d2eb8bba04e0362098011fa3997b   \n",
       "2  03a5648a76832f83c859d46bc06cb64a  9b2d331c329ceb74d3dcfb48d8798c78   \n",
       "3  03a5648a76832f83c859d46bc06cb64a  2723d2eb8bba04e0362098011fa3997b   \n",
       "4  03a5648a76832f83c859d46bc06cb64a  c2e4f76cdbabecd33b8c762aeef386b3   \n",
       "\n",
       "                     user_feature_3  user-item_affinity_0  ...  \\\n",
       "0  f97571b9c14a786aab269f0b427d2a85                   0.0  ...   \n",
       "1  c39b0c7dd5d4eb9a18e7db6ba2f258f8                   0.0  ...   \n",
       "2  270b3e1c052b4f2e9c90bf0ebeb84f34                   0.0  ...   \n",
       "3  c39b0c7dd5d4eb9a18e7db6ba2f258f8                   0.0  ...   \n",
       "4  f97571b9c14a786aab269f0b427d2a85                   0.0  ...   \n",
       "\n",
       "   user-item_affinity_70  user-item_affinity_71  user-item_affinity_72  \\\n",
       "0                    0.0                    0.0                    0.0   \n",
       "1                    0.0                    0.0                    0.0   \n",
       "2                    0.0                    1.0                    0.0   \n",
       "3                    0.0                    0.0                    0.0   \n",
       "4                    0.0                    0.0                    0.0   \n",
       "\n",
       "   user-item_affinity_73  user-item_affinity_74  user-item_affinity_75  \\\n",
       "0                    0.0                    0.0                    0.0   \n",
       "1                    0.0                    0.0                    0.0   \n",
       "2                    0.0                    0.0                    0.0   \n",
       "3                    0.0                    0.0                    0.0   \n",
       "4                    0.0                    0.0                    0.0   \n",
       "\n",
       "   user-item_affinity_76  user-item_affinity_77  user-item_affinity_78  \\\n",
       "0                    0.0                    0.0                    0.0   \n",
       "1                    0.0                    0.0                    0.0   \n",
       "2                    0.0                    0.0                    0.0   \n",
       "3                    0.0                    0.0                    0.0   \n",
       "4                    0.0                    0.0                    0.0   \n",
       "\n",
       "   user-item_affinity_79  \n",
       "0                    0.0  \n",
       "1                    0.0  \n",
       "2                    0.0  \n",
       "3                    0.0  \n",
       "4                    0.0  \n",
       "\n",
       "[5 rows x 89 columns]"
      ]
     },
     "execution_count": 4,
     "metadata": {},
     "output_type": "execute_result"
    }
   ],
   "source": [
    "data.head()"
   ]
  },
  {
   "cell_type": "code",
   "execution_count": 42,
   "metadata": {},
   "outputs": [
    {
     "data": {
      "text/plain": [
       "38"
      ]
     },
     "execution_count": 42,
     "metadata": {},
     "output_type": "execute_result"
    }
   ],
   "source": [
    "data['click'].sum()"
   ]
  },
  {
   "cell_type": "code",
   "execution_count": 6,
   "metadata": {},
   "outputs": [
    {
     "data": {
      "text/plain": [
       "Index(['timestamp', 'item_id', 'position', 'click', 'propensity_score',\n",
       "       'user_feature_0', 'user_feature_1', 'user_feature_2', 'user_feature_3',\n",
       "       'user-item_affinity_0', 'user-item_affinity_1', 'user-item_affinity_2',\n",
       "       'user-item_affinity_3', 'user-item_affinity_4', 'user-item_affinity_5',\n",
       "       'user-item_affinity_6', 'user-item_affinity_7', 'user-item_affinity_8',\n",
       "       'user-item_affinity_9', 'user-item_affinity_10',\n",
       "       'user-item_affinity_11', 'user-item_affinity_12',\n",
       "       'user-item_affinity_13', 'user-item_affinity_14',\n",
       "       'user-item_affinity_15', 'user-item_affinity_16',\n",
       "       'user-item_affinity_17', 'user-item_affinity_18',\n",
       "       'user-item_affinity_19', 'user-item_affinity_20',\n",
       "       'user-item_affinity_21', 'user-item_affinity_22',\n",
       "       'user-item_affinity_23', 'user-item_affinity_24',\n",
       "       'user-item_affinity_25', 'user-item_affinity_26',\n",
       "       'user-item_affinity_27', 'user-item_affinity_28',\n",
       "       'user-item_affinity_29', 'user-item_affinity_30',\n",
       "       'user-item_affinity_31', 'user-item_affinity_32',\n",
       "       'user-item_affinity_33', 'user-item_affinity_34',\n",
       "       'user-item_affinity_35', 'user-item_affinity_36',\n",
       "       'user-item_affinity_37', 'user-item_affinity_38',\n",
       "       'user-item_affinity_39', 'user-item_affinity_40',\n",
       "       'user-item_affinity_41', 'user-item_affinity_42',\n",
       "       'user-item_affinity_43', 'user-item_affinity_44',\n",
       "       'user-item_affinity_45', 'user-item_affinity_46',\n",
       "       'user-item_affinity_47', 'user-item_affinity_48',\n",
       "       'user-item_affinity_49', 'user-item_affinity_50',\n",
       "       'user-item_affinity_51', 'user-item_affinity_52',\n",
       "       'user-item_affinity_53', 'user-item_affinity_54',\n",
       "       'user-item_affinity_55', 'user-item_affinity_56',\n",
       "       'user-item_affinity_57', 'user-item_affinity_58',\n",
       "       'user-item_affinity_59', 'user-item_affinity_60',\n",
       "       'user-item_affinity_61', 'user-item_affinity_62',\n",
       "       'user-item_affinity_63', 'user-item_affinity_64',\n",
       "       'user-item_affinity_65', 'user-item_affinity_66',\n",
       "       'user-item_affinity_67', 'user-item_affinity_68',\n",
       "       'user-item_affinity_69', 'user-item_affinity_70',\n",
       "       'user-item_affinity_71', 'user-item_affinity_72',\n",
       "       'user-item_affinity_73', 'user-item_affinity_74',\n",
       "       'user-item_affinity_75', 'user-item_affinity_76',\n",
       "       'user-item_affinity_77', 'user-item_affinity_78',\n",
       "       'user-item_affinity_79'],\n",
       "      dtype='object')"
      ]
     },
     "execution_count": 6,
     "metadata": {},
     "output_type": "execute_result"
    }
   ],
   "source": [
    "data.columns"
   ]
  },
  {
   "cell_type": "code",
   "execution_count": 8,
   "metadata": {},
   "outputs": [],
   "source": [
    "data['timestamp'] = pd.to_datetime(data['timestamp'])"
   ]
  },
  {
   "cell_type": "code",
   "execution_count": 9,
   "metadata": {},
   "outputs": [],
   "source": [
    "data['año'] = data['timestamp'].dt.year\n",
    "data['mes'] = data['timestamp'].dt.month\n",
    "data['día'] = data['timestamp'].dt.day\n",
    "data['hora'] = data['timestamp'].dt.hour\n",
    "data['minuto'] = data['timestamp'].dt.minute"
   ]
  },
  {
   "cell_type": "code",
   "execution_count": 10,
   "metadata": {},
   "outputs": [
    {
     "data": {
      "text/html": [
       "<div>\n",
       "<style scoped>\n",
       "    .dataframe tbody tr th:only-of-type {\n",
       "        vertical-align: middle;\n",
       "    }\n",
       "\n",
       "    .dataframe tbody tr th {\n",
       "        vertical-align: top;\n",
       "    }\n",
       "\n",
       "    .dataframe thead th {\n",
       "        text-align: right;\n",
       "    }\n",
       "</style>\n",
       "<table border=\"1\" class=\"dataframe\">\n",
       "  <thead>\n",
       "    <tr style=\"text-align: right;\">\n",
       "      <th></th>\n",
       "      <th>timestamp</th>\n",
       "      <th>item_id</th>\n",
       "      <th>position</th>\n",
       "      <th>click</th>\n",
       "      <th>propensity_score</th>\n",
       "      <th>user_feature_0</th>\n",
       "      <th>user_feature_1</th>\n",
       "      <th>user_feature_2</th>\n",
       "      <th>user_feature_3</th>\n",
       "      <th>user-item_affinity_0</th>\n",
       "      <th>...</th>\n",
       "      <th>user-item_affinity_75</th>\n",
       "      <th>user-item_affinity_76</th>\n",
       "      <th>user-item_affinity_77</th>\n",
       "      <th>user-item_affinity_78</th>\n",
       "      <th>user-item_affinity_79</th>\n",
       "      <th>año</th>\n",
       "      <th>mes</th>\n",
       "      <th>día</th>\n",
       "      <th>hora</th>\n",
       "      <th>minuto</th>\n",
       "    </tr>\n",
       "  </thead>\n",
       "  <tbody>\n",
       "    <tr>\n",
       "      <th>0</th>\n",
       "      <td>2019-11-24 00:00:34.762830+00:00</td>\n",
       "      <td>14</td>\n",
       "      <td>3</td>\n",
       "      <td>0</td>\n",
       "      <td>0.0125</td>\n",
       "      <td>81ce123cbb5bd8ce818f60fb3586bba5</td>\n",
       "      <td>03a5648a76832f83c859d46bc06cb64a</td>\n",
       "      <td>c2e4f76cdbabecd33b8c762aeef386b3</td>\n",
       "      <td>f97571b9c14a786aab269f0b427d2a85</td>\n",
       "      <td>0.0</td>\n",
       "      <td>...</td>\n",
       "      <td>0.0</td>\n",
       "      <td>0.0</td>\n",
       "      <td>0.0</td>\n",
       "      <td>0.0</td>\n",
       "      <td>0.0</td>\n",
       "      <td>2019</td>\n",
       "      <td>11</td>\n",
       "      <td>24</td>\n",
       "      <td>0</td>\n",
       "      <td>0</td>\n",
       "    </tr>\n",
       "    <tr>\n",
       "      <th>1</th>\n",
       "      <td>2019-11-24 00:00:53.965051+00:00</td>\n",
       "      <td>14</td>\n",
       "      <td>3</td>\n",
       "      <td>0</td>\n",
       "      <td>0.0125</td>\n",
       "      <td>81ce123cbb5bd8ce818f60fb3586bba5</td>\n",
       "      <td>03a5648a76832f83c859d46bc06cb64a</td>\n",
       "      <td>2723d2eb8bba04e0362098011fa3997b</td>\n",
       "      <td>c39b0c7dd5d4eb9a18e7db6ba2f258f8</td>\n",
       "      <td>0.0</td>\n",
       "      <td>...</td>\n",
       "      <td>0.0</td>\n",
       "      <td>0.0</td>\n",
       "      <td>0.0</td>\n",
       "      <td>0.0</td>\n",
       "      <td>0.0</td>\n",
       "      <td>2019</td>\n",
       "      <td>11</td>\n",
       "      <td>24</td>\n",
       "      <td>0</td>\n",
       "      <td>0</td>\n",
       "    </tr>\n",
       "    <tr>\n",
       "      <th>2</th>\n",
       "      <td>2019-11-24 00:00:56.727734+00:00</td>\n",
       "      <td>27</td>\n",
       "      <td>3</td>\n",
       "      <td>0</td>\n",
       "      <td>0.0125</td>\n",
       "      <td>81ce123cbb5bd8ce818f60fb3586bba5</td>\n",
       "      <td>03a5648a76832f83c859d46bc06cb64a</td>\n",
       "      <td>9b2d331c329ceb74d3dcfb48d8798c78</td>\n",
       "      <td>270b3e1c052b4f2e9c90bf0ebeb84f34</td>\n",
       "      <td>0.0</td>\n",
       "      <td>...</td>\n",
       "      <td>0.0</td>\n",
       "      <td>0.0</td>\n",
       "      <td>0.0</td>\n",
       "      <td>0.0</td>\n",
       "      <td>0.0</td>\n",
       "      <td>2019</td>\n",
       "      <td>11</td>\n",
       "      <td>24</td>\n",
       "      <td>0</td>\n",
       "      <td>0</td>\n",
       "    </tr>\n",
       "    <tr>\n",
       "      <th>3</th>\n",
       "      <td>2019-11-24 00:02:17.189232+00:00</td>\n",
       "      <td>48</td>\n",
       "      <td>2</td>\n",
       "      <td>0</td>\n",
       "      <td>0.0125</td>\n",
       "      <td>81ce123cbb5bd8ce818f60fb3586bba5</td>\n",
       "      <td>03a5648a76832f83c859d46bc06cb64a</td>\n",
       "      <td>2723d2eb8bba04e0362098011fa3997b</td>\n",
       "      <td>c39b0c7dd5d4eb9a18e7db6ba2f258f8</td>\n",
       "      <td>0.0</td>\n",
       "      <td>...</td>\n",
       "      <td>0.0</td>\n",
       "      <td>0.0</td>\n",
       "      <td>0.0</td>\n",
       "      <td>0.0</td>\n",
       "      <td>0.0</td>\n",
       "      <td>2019</td>\n",
       "      <td>11</td>\n",
       "      <td>24</td>\n",
       "      <td>0</td>\n",
       "      <td>2</td>\n",
       "    </tr>\n",
       "    <tr>\n",
       "      <th>4</th>\n",
       "      <td>2019-11-24 00:03:02.129117+00:00</td>\n",
       "      <td>36</td>\n",
       "      <td>2</td>\n",
       "      <td>0</td>\n",
       "      <td>0.0125</td>\n",
       "      <td>81ce123cbb5bd8ce818f60fb3586bba5</td>\n",
       "      <td>03a5648a76832f83c859d46bc06cb64a</td>\n",
       "      <td>c2e4f76cdbabecd33b8c762aeef386b3</td>\n",
       "      <td>f97571b9c14a786aab269f0b427d2a85</td>\n",
       "      <td>0.0</td>\n",
       "      <td>...</td>\n",
       "      <td>0.0</td>\n",
       "      <td>0.0</td>\n",
       "      <td>0.0</td>\n",
       "      <td>0.0</td>\n",
       "      <td>0.0</td>\n",
       "      <td>2019</td>\n",
       "      <td>11</td>\n",
       "      <td>24</td>\n",
       "      <td>0</td>\n",
       "      <td>3</td>\n",
       "    </tr>\n",
       "  </tbody>\n",
       "</table>\n",
       "<p>5 rows × 94 columns</p>\n",
       "</div>"
      ],
      "text/plain": [
       "                         timestamp  item_id  position  click  \\\n",
       "0 2019-11-24 00:00:34.762830+00:00       14         3      0   \n",
       "1 2019-11-24 00:00:53.965051+00:00       14         3      0   \n",
       "2 2019-11-24 00:00:56.727734+00:00       27         3      0   \n",
       "3 2019-11-24 00:02:17.189232+00:00       48         2      0   \n",
       "4 2019-11-24 00:03:02.129117+00:00       36         2      0   \n",
       "\n",
       "   propensity_score                    user_feature_0  \\\n",
       "0            0.0125  81ce123cbb5bd8ce818f60fb3586bba5   \n",
       "1            0.0125  81ce123cbb5bd8ce818f60fb3586bba5   \n",
       "2            0.0125  81ce123cbb5bd8ce818f60fb3586bba5   \n",
       "3            0.0125  81ce123cbb5bd8ce818f60fb3586bba5   \n",
       "4            0.0125  81ce123cbb5bd8ce818f60fb3586bba5   \n",
       "\n",
       "                     user_feature_1                    user_feature_2  \\\n",
       "0  03a5648a76832f83c859d46bc06cb64a  c2e4f76cdbabecd33b8c762aeef386b3   \n",
       "1  03a5648a76832f83c859d46bc06cb64a  2723d2eb8bba04e0362098011fa3997b   \n",
       "2  03a5648a76832f83c859d46bc06cb64a  9b2d331c329ceb74d3dcfb48d8798c78   \n",
       "3  03a5648a76832f83c859d46bc06cb64a  2723d2eb8bba04e0362098011fa3997b   \n",
       "4  03a5648a76832f83c859d46bc06cb64a  c2e4f76cdbabecd33b8c762aeef386b3   \n",
       "\n",
       "                     user_feature_3  user-item_affinity_0  ...  \\\n",
       "0  f97571b9c14a786aab269f0b427d2a85                   0.0  ...   \n",
       "1  c39b0c7dd5d4eb9a18e7db6ba2f258f8                   0.0  ...   \n",
       "2  270b3e1c052b4f2e9c90bf0ebeb84f34                   0.0  ...   \n",
       "3  c39b0c7dd5d4eb9a18e7db6ba2f258f8                   0.0  ...   \n",
       "4  f97571b9c14a786aab269f0b427d2a85                   0.0  ...   \n",
       "\n",
       "   user-item_affinity_75  user-item_affinity_76  user-item_affinity_77  \\\n",
       "0                    0.0                    0.0                    0.0   \n",
       "1                    0.0                    0.0                    0.0   \n",
       "2                    0.0                    0.0                    0.0   \n",
       "3                    0.0                    0.0                    0.0   \n",
       "4                    0.0                    0.0                    0.0   \n",
       "\n",
       "   user-item_affinity_78  user-item_affinity_79   año  mes  día  hora  minuto  \n",
       "0                    0.0                    0.0  2019   11   24     0       0  \n",
       "1                    0.0                    0.0  2019   11   24     0       0  \n",
       "2                    0.0                    0.0  2019   11   24     0       0  \n",
       "3                    0.0                    0.0  2019   11   24     0       2  \n",
       "4                    0.0                    0.0  2019   11   24     0       3  \n",
       "\n",
       "[5 rows x 94 columns]"
      ]
     },
     "execution_count": 10,
     "metadata": {},
     "output_type": "execute_result"
    }
   ],
   "source": [
    "data.head()"
   ]
  },
  {
   "cell_type": "markdown",
   "metadata": {},
   "source": [
    "# Análisis Temporal:\n",
    "* Tendencias a lo largo del tiempo: Identifica patrones diarios, semanales o mensuales en las impresiones y clics.\n",
    "* Estacionalidad: Detecta si hay períodos específicos donde la interacción de los usuarios aumenta o disminuye.\n",
    "\n"
   ]
  },
  {
   "cell_type": "code",
   "execution_count": 38,
   "metadata": {},
   "outputs": [],
   "source": [
    "clicks = data.loc[data['click'] == 1]"
   ]
  },
  {
   "cell_type": "code",
   "execution_count": 37,
   "metadata": {},
   "outputs": [
    {
     "data": {
      "text/plain": [
       "<Axes: xlabel='día', ylabel='count'>"
      ]
     },
     "execution_count": 37,
     "metadata": {},
     "output_type": "execute_result"
    },
    {
     "data": {
      "image/png": "[encoded data removed]",
      "text/plain": [
       "<Figure size 640x480 with 1 Axes>"
      ]
     },
     "metadata": {},
     "output_type": "display_data"
    }
   ],
   "source": [
    "sns.countplot(\n",
    "    data=data, x=\"día\"\n",
    "    )"
   ]
  },
  {
   "cell_type": "code",
   "execution_count": 36,
   "metadata": {},
   "outputs": [
    {
     "data": {
      "text/plain": [
       "Text(0.5, 1.0, 'Cantidad de clicks diarios')"
      ]
     },
     "execution_count": 36,
     "metadata": {},
     "output_type": "execute_result"
    },
    {
     "data": {
      "image/png": "[encoded data removed]",
      "text/plain": [
       "<Figure size 640x480 with 1 Axes>"
      ]
     },
     "metadata": {},
     "output_type": "display_data"
    }
   ],
   "source": [
    "sns.countplot(\n",
    "    data=clicks, x=\"día\"\n",
    "    )\n",
    "plt.title('Cantidad de clicks diarios')\n"
   ]
  },
  {
   "cell_type": "code",
   "execution_count": 35,
   "metadata": {},
   "outputs": [
    {
     "data": {
      "text/plain": [
       "Text(0.5, 1.0, 'Cantidad de clicks en cada hora')"
      ]
     },
     "execution_count": 35,
     "metadata": {},
     "output_type": "execute_result"
    },
    {
     "data": {
      "image/png": "[encoded data removed]",
      "text/plain": [
       "<Figure size 640x480 with 1 Axes>"
      ]
     },
     "metadata": {},
     "output_type": "display_data"
    }
   ],
   "source": [
    "sns.countplot(\n",
    "    data=clicks, x=\"hora\"\n",
    "    )\n",
    "plt.title('Cantidad de clicks en cada hora')"
   ]
  },
  {
   "cell_type": "markdown",
   "metadata": {},
   "source": [
    "# Análisis de Tasas de Clics (CTR)\n",
    "* CTR por Posición: Calcula el CTR para cada posición (1, 2, 3) y determina si ciertas posiciones generan más clics.\n",
    "* CTR por Campaña: Compara el CTR entre las campañas \"All\", \"Men\" y \"Women\" para identificar diferencias en el comportamiento de los usuarios.\n",
    "* CTR por Item: Identifica cuáles son los ítems con mayor y menor CTR, y analiza sus características comunes.\n"
   ]
  },
  {
   "cell_type": "code",
   "execution_count": 40,
   "metadata": {},
   "outputs": [
    {
     "data": {
      "text/plain": [
       "Text(0.5, 1.0, 'Cantidad de clicks según la posición del item')"
      ]
     },
     "execution_count": 40,
     "metadata": {},
     "output_type": "execute_result"
    },
    {
     "data": {
      "image/png": "[encoded data removed]",
      "text/plain": [
       "<Figure size 640x480 with 1 Axes>"
      ]
     },
     "metadata": {},
     "output_type": "display_data"
    }
   ],
   "source": [
    "sns.countplot(\n",
    "    data=clicks, x=\"position\"\n",
    "    )\n",
    "plt.title('Cantidad de clicks según la posición del item')"
   ]
  },
  {
   "cell_type": "code",
   "execution_count": 41,
   "metadata": {},
   "outputs": [
    {
     "data": {
      "text/plain": [
       "Text(0.5, 1.0, 'Cantidad de clicks según la posición del item')"
      ]
     },
     "execution_count": 41,
     "metadata": {},
     "output_type": "execute_result"
    },
    {
     "data": {
      "image/png": "[encoded data removed]",
      "text/plain": [
       "<Figure size 640x480 with 1 Axes>"
      ]
     },
     "metadata": {},
     "output_type": "display_data"
    }
   ],
   "source": [
    "sns.countplot(\n",
    "    data=clicks, x=\"item_id\"\n",
    "    )\n",
    "plt.title('Cantidad de clicks según la posición del item')"
   ]
  },
  {
   "cell_type": "code",
   "execution_count": null,
   "metadata": {},
   "outputs": [],
   "source": []
  }
 ],
 "metadata": {
  "kernelspec": {
   "display_name": "Python 3",
   "language": "python",
   "name": "python3"
  },
  "language_info": {
   "codemirror_mode": {
    "name": "ipython",
    "version": 3
   },
   "file_extension": ".py",
   "mimetype": "text/x-python",
   "name": "python",
   "nbconvert_exporter": "python",
   "pygments_lexer": "ipython3",
   "version": "3.12.2"
  }
 },
 "nbformat": 4,
 "nbformat_minor": 2
}
